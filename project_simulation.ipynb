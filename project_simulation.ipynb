{
  "nbformat": 4,
  "nbformat_minor": 0,
  "metadata": {
    "colab": {
      "name": "project_simulation.ipynb",
      "provenance": []
    },
    "kernelspec": {
      "name": "python3",
      "display_name": "Python 3"
    },
    "language_info": {
      "name": "python"
    }
  },
  "cells": [
    {
      "cell_type": "code",
      "metadata": {
        "id": "ncawXFquQP0P"
      },
      "source": [
        "import numpy as np\n",
        "from scipy.stats import beta\n",
        "import matplotlib.pyplot as plt\n",
        "from IPython.display import clear_output\n",
        "import random"
      ],
      "execution_count": null,
      "outputs": []
    },
    {
      "cell_type": "markdown",
      "metadata": {
        "id": "xDDEmSOK2ER3"
      },
      "source": [
        "**Function Definition**\n",
        "\n",
        "These fucntions will be used throughout the three simulations"
      ]
    },
    {
      "cell_type": "code",
      "metadata": {
        "id": "RW4vZ5SR1iQ_"
      },
      "source": [
        "# fucntion to update the distribution plots\n",
        "def plot_arms(x, distribution_arm1, distribution_arm2):\n",
        "  clear_output(wait = True)\n",
        "  plt.plot(x,distribution_arm1)\n",
        "  plt.plot(x,distribution_arm2)\n",
        "  plt.pause(0.00001)\n",
        "  \n",
        "\n",
        "\n",
        "# fucntion to update the distribution parameters (alpha and beta)\n",
        "def updateDistributions(alpha, beta, reward):\n",
        "  alpha = alpha + reward\n",
        "  beta = beta + (1 - reward)\n",
        "  return alpha, beta\n",
        "\n",
        "\n",
        "# fucntion to perform one iteration of Thompson Sampling\n",
        "def thompsonSample(sample_arm1, sample_arm2, alpha_arm1, beta_arm1, alpha_arm2, beta_arm2, arm_1_mean, arm_2_mean):\n",
        "  if sample_arm1 > sample_arm2:\n",
        "    reward_options = [0,1]\n",
        "    reward = np.random.choice(reward_options, 1, p=[1-arm_1_mean, arm_1_mean])\n",
        "    alpha_arm1, beta_arm1 = updateDistributions(alpha_arm1, beta_arm1, reward)\n",
        "\n",
        "  else:\n",
        "    reward_options = [0,1]\n",
        "    reward = np.random.choice(reward_options, 1, p=[1-arm_2_mean, arm_2_mean])\n",
        "    alpha_arm2, beta_arm2 = updateDistributions(alpha_arm2, beta_arm2, reward)\n",
        "  \n",
        "  return alpha_arm1, beta_arm1, alpha_arm2, beta_arm2, reward\n",
        "\n",
        "\n",
        "# fucntion to perform one iteration of Sampling with Uniform Random\n",
        "def uniformRandom(alpha_arm1, beta_arm1, alpha_arm2, beta_arm2, arm_1_mean, arm_2_mean):\n",
        "  arm_random = random.choice([0,1])\n",
        "  if arm_random == 0:\n",
        "    reward_options = [0,1]\n",
        "    reward = np.random.choice(reward_options, 1, p=[1-arm_1_mean, arm_1_mean])\n",
        "    alpha_arm1, beta_arm1 = updateDistributions(alpha_arm1, beta_arm1, reward)\n",
        "  else:\n",
        "    reward_options = [0,1]\n",
        "    reward = np.random.choice(reward_options, 1, p=[1-arm_2_mean, arm_2_mean])\n",
        "    alpha_arm2, beta_arm2 = updateDistributions(alpha_arm2, beta_arm2, reward)  \n",
        "  \n",
        "  return alpha_arm1, beta_arm1, alpha_arm2, beta_arm2, reward\n",
        "\n",
        "\n",
        "# function to calculate and print the final estimated means for arm 1 and arm 2 and total reward\n",
        "def printFinalResults(alpha_arm1, beta_arm1, alpha_arm2, beta_arm2, total_reward):\n",
        "  calc_mean_arm1 = alpha_arm1/(alpha_arm1 + beta_arm1)\n",
        "  calc_mean_arm2 = alpha_arm2/(alpha_arm2 + beta_arm2)\n",
        "  print(\"calculated arm 1 mean = \", calc_mean_arm1)\n",
        "  print(\"calculated arm 2 mean = \", calc_mean_arm2)\n",
        "  print(\"total reward = \", total_reward)\n",
        "  print(\"alpha arm1 = \", alpha_arm1)\n",
        "  print(\"alpha arm2 = \", alpha_arm2)\n",
        "  print(\"beta arm1 = \", beta_arm1)\n",
        "  print(\"beta arm2 = \", beta_arm2)"
      ],
      "execution_count": null,
      "outputs": []
    },
    {
      "cell_type": "markdown",
      "metadata": {
        "id": "eUrkmxd24VN9"
      },
      "source": [
        "**Simualation Parameters**\n",
        "\n",
        "These parameters wil be used by each algorithm so we can compare performance. Performance metrics we are using are the accuracy of the predicted mean and the total reward. "
      ]
    },
    {
      "cell_type": "code",
      "metadata": {
        "id": "qCTCeoqe4i8l"
      },
      "source": [
        "# define the true means \n",
        "arm_1_mean = 0.215\n",
        "arm_2_mean = 0.230\n",
        "\n",
        "# define c threshold (only used by TS-PostDiff)\n",
        "c = 0.004"
      ],
      "execution_count": null,
      "outputs": []
    },
    {
      "cell_type": "markdown",
      "metadata": {
        "id": "rdjTIV3Sjcdo"
      },
      "source": [
        "**Thompson Sampling Simulation**\n",
        "\n",
        "The arms are sampled, and the arm with the larger sampled value is chosen. \n",
        "\n",
        "Expected Results\n",
        "\n",
        "- total reward will be maximized, being close to the higher mean\n",
        "- the arm with the higher mean will be chosen more, so it will have a taller curve\n",
        "- the arm with the lower mean will be chosen signifiacntly less and therefore the calculated mean will not be accurate\n",
        "\n",
        "\n"
      ]
    },
    {
      "cell_type": "code",
      "metadata": {
        "id": "GmEm-uxrmcWh",
        "colab": {
          "base_uri": "https://localhost:8080/",
          "height": 394
        },
        "outputId": "b79311e4-5300-4d9f-c78f-25c3dd703725"
      },
      "source": [
        "# initialize distribution: arm 1\n",
        "alpha_arm1 = 1\n",
        "beta_arm1 = 1\n",
        "\n",
        "# initialize distribution: arm 2\n",
        "alpha_arm2 = 1\n",
        "beta_arm2 = 1\n",
        "\n",
        "# initialize total reward\n",
        "total_reward = 0\n",
        "\n",
        "# plot initial figure\n",
        "plt.ion()\n",
        "fig = plt.figure()\n",
        "x = np.arange (0, 1, 0.01)\n",
        "distribution_arm1 = beta.pdf(x, alpha_arm1, beta_arm1)\n",
        "distribution_arm2 = beta.pdf(x, alpha_arm2, beta_arm2)\n",
        "plot_arms(x, distribution_arm1, distribution_arm2)\n",
        "\n",
        "# run 100 iterations of the experiemnt\n",
        "for i in range(508):\n",
        "  #sample each distribution\n",
        "  sample_arm1 = np.random.beta(alpha_arm1, beta_arm1, 1)\n",
        "  sample_arm2 = np.random.beta(alpha_arm2, beta_arm2, 1)\n",
        "  \n",
        "  # choose arm and update distributions using TS\n",
        "  alpha_arm1, beta_arm1, alpha_arm2, beta_arm2, reward = thompsonSample(sample_arm1, sample_arm2, alpha_arm1, beta_arm1, alpha_arm2, beta_arm2, arm_1_mean, arm_2_mean)\n",
        "  \n",
        "  # update total reward\n",
        "  total_reward = total_reward + reward\n",
        "\n",
        "  # update plot\n",
        "  distribution_arm1_TS = beta.pdf(x, alpha_arm1, beta_arm1)\n",
        "  distribution_arm2_TS = beta.pdf(x, alpha_arm2, beta_arm2)\n",
        "  plot_arms(x, distribution_arm1_TS, distribution_arm2_TS)\n",
        "\n",
        "printFinalResults(alpha_arm1, beta_arm1, alpha_arm2, beta_arm2, total_reward)\n",
        "\n"
      ],
      "execution_count": null,
      "outputs": [
        {
          "output_type": "display_data",
          "data": {
            "image/png": "[encoded data removed]",
            "text/plain": [
              "<Figure size 432x288 with 1 Axes>"
            ]
          },
          "metadata": {
            "needs_background": "light"
          }
        },
        {
          "output_type": "stream",
          "name": "stdout",
          "text": [
            "calculated arm 1 mean =  [0.23560209]\n",
            "calculated arm 2 mean =  [0.24610592]\n",
            "total reward =  [122]\n",
            "alpha arm1 =  [45]\n",
            "alpha arm2 =  [79]\n",
            "beta arm1 =  [146]\n",
            "beta arm2 =  [242]\n"
          ]
        }
      ]
    },
    {
      "cell_type": "markdown",
      "metadata": {
        "id": "K065c5_rkBFj"
      },
      "source": [
        "**TS-PostDiff Simulation** \n",
        "\n",
        "The arms are sampled, and if the diference in the samples is less than threshold c, the arm is chosen randomly. If the difference is larger than the threshold, the arms are chosen with Thompson sampling (ie. the arm with the larger smapled value is chosen). \n",
        "\n",
        "Expected Results\n",
        "\n",
        "- Total reward would be closer to the higher mean, but not as high as pure TS\n",
        "- The calculated mean of the arm with a lower true mean, wil be more accurate than pure TS, but not as accurate as uniform random\n"
      ]
    },
    {
      "cell_type": "code",
      "metadata": {
        "colab": {
          "base_uri": "https://localhost:8080/",
          "height": 396
        },
        "id": "dUTzlCYVkAc7",
        "outputId": "bba20d72-995c-45e9-f8c9-616ed946a7c1"
      },
      "source": [
        "# initialize distribution: arm 1 \n",
        "alpha_arm1 = 1\n",
        "beta_arm1 = 1\n",
        "\n",
        "# initialize distribution: arm 2\n",
        "alpha_arm2 = 1\n",
        "beta_arm2 = 1\n",
        "\n",
        "# initialize total reward\n",
        "total_reward = 0\n",
        "\n",
        "# plot initial figure\n",
        "plt.ion()\n",
        "fig = plt.figure()\n",
        "x = np.arange (0, 1, 0.01)\n",
        "distribution_arm1 = beta.pdf(x, alpha_arm1, beta_arm1)\n",
        "distribution_arm2 = beta.pdf(x, alpha_arm2, beta_arm2)\n",
        "plot_arms(x, distribution_arm1, distribution_arm2)\n",
        "\n",
        "# run 100 iterations of the experiemnt\n",
        "for i in range(510):\n",
        "  #sample each distribution\n",
        "  sample_arm1 = np.random.beta(alpha_arm1, beta_arm1, 1)\n",
        "  sample_arm2 = np.random.beta(alpha_arm2, beta_arm2, 1)\n",
        "\n",
        "  if abs(sample_arm1-sample_arm2)<=c:\n",
        "      alpha_arm1, beta_arm1, alpha_arm2, beta_arm2, reward = uniformRandom(alpha_arm1, beta_arm1, alpha_arm2, beta_arm2, arm_1_mean, arm_2_mean)\n",
        "  else:\n",
        "      alpha_arm1, beta_arm1, alpha_arm2, beta_arm2, reward = thompsonSample(sample_arm1, sample_arm2, alpha_arm1, beta_arm1, alpha_arm2, beta_arm2, arm_1_mean, arm_2_mean)\n",
        "\n",
        "  # update total reward\n",
        "  total_reward = total_reward + reward\n",
        "\n",
        "  # update plot\n",
        "  distribution_arm1_TSPD = beta.pdf(x, alpha_arm1, beta_arm1)\n",
        "  distribution_arm2_TSPD = beta.pdf(x, alpha_arm2, beta_arm2)\n",
        "  plot_arms(x, distribution_arm1_TSPD, distribution_arm2_TSPD)\n",
        "\n",
        "printFinalResults(alpha_arm1, beta_arm1, alpha_arm2, beta_arm2, total_reward)\n",
        "\n"
      ],
      "execution_count": null,
      "outputs": [
        {
          "output_type": "display_data",
          "data": {
            "image/png": "[encoded data removed]",
            "text/plain": [
              "<Figure size 432x288 with 1 Axes>"
            ]
          },
          "metadata": {
            "needs_background": "light"
          }
        },
        {
          "output_type": "stream",
          "name": "stdout",
          "text": [
            "calculated arm 1 mean =  [0.23809524]\n",
            "calculated arm 2 mean =  [0.22821577]\n",
            "total reward =  [118]\n",
            "alpha arm1 =  [65]\n",
            "alpha arm2 =  [55]\n",
            "beta arm1 =  [208]\n",
            "beta arm2 =  [186]\n"
          ]
        }
      ]
    },
    {
      "cell_type": "markdown",
      "metadata": {
        "id": "bl76VYuku_Sy"
      },
      "source": [
        "**Uniform Random Simulation**\n",
        "\n",
        "Each arm is sampled randomly with a 50-50 chance. \n",
        "\n",
        "Expected Results\n",
        "\n",
        "- The reward should be about halfway between the two means\n",
        "- the calculated means will both be fairly accurate sicne they are sampled equally"
      ]
    },
    {
      "cell_type": "code",
      "metadata": {
        "colab": {
          "base_uri": "https://localhost:8080/",
          "height": 394
        },
        "id": "s8yp-caZvB4y",
        "outputId": "5e399655-b8c2-428f-dc70-460ca7a567ca"
      },
      "source": [
        "# define initial beta distribution: arm 1\n",
        "alpha_arm1 = 1\n",
        "beta_arm1 = 1\n",
        "\n",
        "# define initial beta distribution: arm 2\n",
        "alpha_arm2 = 1\n",
        "beta_arm2 = 1\n",
        "\n",
        "# initialize total reward\n",
        "total_reward = 0\n",
        "\n",
        "# plot initial figure\n",
        "plt.ion()\n",
        "fig = plt.figure()\n",
        "x = np.arange (0, 1, 0.01)\n",
        "distribution_arm1 = beta.pdf(x, alpha_arm1, beta_arm1)\n",
        "distribution_arm2 = beta.pdf(x, alpha_arm2, beta_arm2)\n",
        "plot_arms(x, distribution_arm1, distribution_arm2)\n",
        "\n",
        "# run 100 iterations of the experiemnt\n",
        "for i in range(556):\n",
        "  alpha_arm1, beta_arm1, alpha_arm2, beta_arm2, reward = uniformRandom(alpha_arm1, beta_arm1, alpha_arm2, beta_arm2, arm_1_mean, arm_2_mean)\n",
        "  \n",
        "  # update total reward\n",
        "  total_reward = total_reward + reward\n",
        "\n",
        "  # update plot\n",
        "  distribution_arm1_UR = beta.pdf(x, alpha_arm1, beta_arm1)\n",
        "  distribution_arm2_UR = beta.pdf(x, alpha_arm2, beta_arm2)\n",
        "  plot_arms(x, distribution_arm1_UR, distribution_arm2_UR)\n",
        "\n",
        "printFinalResults(alpha_arm1, beta_arm1, alpha_arm2, beta_arm2, total_reward)\n",
        "\n"
      ],
      "execution_count": null,
      "outputs": [
        {
          "output_type": "display_data",
          "data": {
            "image/png": "[encoded data removed]",
            "text/plain": [
              "<Figure size 432x288 with 1 Axes>"
            ]
          },
          "metadata": {
            "needs_background": "light"
          }
        },
        {
          "output_type": "stream",
          "name": "stdout",
          "text": [
            "calculated arm 1 mean =  [0.20220588]\n",
            "calculated arm 2 mean =  [0.25347222]\n",
            "total reward =  [126]\n",
            "alpha arm1 =  [55]\n",
            "alpha arm2 =  [73]\n",
            "beta arm1 =  [217]\n",
            "beta arm2 =  [215]\n"
          ]
        }
      ]
    },
    {
      "cell_type": "markdown",
      "metadata": {
        "id": "xPMsPcrcwDPT"
      },
      "source": [
        "Generate a figure with the threee final plots side by side"
      ]
    },
    {
      "cell_type": "code",
      "metadata": {
        "colab": {
          "base_uri": "https://localhost:8080/",
          "height": 280
        },
        "id": "WAQ12aA0wC85",
        "outputId": "8197c689-6ff8-42dd-cf08-266d2e1b4733"
      },
      "source": [
        "\n",
        "ax1 = plt.subplot(3, 1, 1)\n",
        "ax1.set_title('UR')\n",
        "x = np.arange(0, 1, 0.01)\n",
        "ax1.plot(x, distribution_arm1_UR, label='no prompt')\n",
        "ax1.plot(x, distribution_arm2_UR, label='prompt')\n",
        "ax1.tick_params(axis='both', labelsize=8)\n",
        "ax1.legend()\n",
        "\n",
        "ax1 = plt.subplot(3, 1, 2)\n",
        "ax1.set_title('TS')\n",
        "x = np.arange(0, 1, 0.01)\n",
        "ax1.plot(x, distribution_arm1_TS, label='no prompt')\n",
        "ax1.plot(x, distribution_arm2_TS, label='prompt')\n",
        "ax1.tick_params(axis='both', labelsize=8)\n",
        "ax1.legend()\n",
        "\n",
        "ax1 = plt.subplot(3, 1, 3)\n",
        "ax1.set_title('TS-PD')\n",
        "x = np.arange(0, 1, 0.01)\n",
        "ax1.plot(x, distribution_arm1_TSPD, label='no prompt')\n",
        "ax1.plot(x, distribution_arm2_TSPD, label='prompt')\n",
        "ax1.tick_params(axis='both', labelsize=8)\n",
        "ax1.legend()\n",
        "\n",
        "plt.subplots_adjust(hspace=0.5)\n",
        "plt.savefig('beta_dist.png')\n",
        "plt.show()\n"
      ],
      "execution_count": null,
      "outputs": [
        {
          "output_type": "display_data",
          "data": {
            "image/png": "[encoded data removed]",
            "text/plain": [
              "<Figure size 432x288 with 3 Axes>"
            ]
          },
          "metadata": {
            "needs_background": "light"
          }
        }
      ]
    }
  ]
}