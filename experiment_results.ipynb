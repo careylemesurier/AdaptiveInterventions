{
  "nbformat": 4,
  "nbformat_minor": 0,
  "metadata": {
    "colab": {
      "name": "experiment_results.ipynb",
      "provenance": []
    },
    "kernelspec": {
      "name": "python3",
      "display_name": "Python 3"
    },
    "language_info": {
      "name": "python"
    }
  },
  "cells": [
    {
      "cell_type": "code",
      "execution_count": null,
      "metadata": {
        "id": "8n-l0lTy8P2H"
      },
      "outputs": [],
      "source": [
        "import numpy as np\n",
        "import matplotlib.pyplot as plt\n",
        "import pandas as pd\n",
        "from scipy.stats import beta, ttest_ind"
      ]
    },
    {
      "cell_type": "code",
      "source": [
        "# load and clean data\n",
        "def load_data(filepath):\n",
        "    # load data from csv\n",
        "    data = pd.read_csv(filepath)\n",
        "\n",
        "    # select only the relevant columns, indicated by Angela\n",
        "    relevant_data = data[['isInList', 'completed', 'breathe', 'policy_150', 'correct']]\n",
        "\n",
        "    # remove the first two rows (unneeded header rows)\n",
        "    relevant_data = relevant_data.drop([0, 1], axis=0)\n",
        "\n",
        "    # filter out all data where isInList is false or completed is false and remove these columns\n",
        "    relevant_data = relevant_data[(relevant_data['isInList'] == 'true') & (relevant_data['completed'] == 'true')]\n",
        "    relevant_data = relevant_data.drop(['isInList', 'completed'], axis=1)\n",
        "\n",
        "    # change breathe column from \"yes\"/\"no\" to 1/0\n",
        "    relevant_data['breathe'] = (relevant_data['breathe'] == 'yes').astype(int)\n",
        "\n",
        "    # make correct column int\n",
        "    relevant_data['correct'] = (relevant_data['correct'] == '1').astype(int)\n",
        "\n",
        "    # add policy name column\n",
        "    relevant_data.loc[relevant_data['policy_150'] == '1', 'policy_name'] = 'UR'\n",
        "    relevant_data.loc[relevant_data['policy_150'] == '3', 'policy_name'] = 'TS'\n",
        "    relevant_data.loc[relevant_data['policy_150'] == '17', 'policy_name'] = 'TS-PD'\n",
        "\n",
        "    relevant_data = relevant_data.rename(columns={'correct': 'reward', 'breathe': 'arm', 'policy_150': 'policy_code'})\n",
        "\n",
        "    return relevant_data\n"
      ],
      "metadata": {
        "id": "ebUy_YAt8joH"
      },
      "execution_count": null,
      "outputs": []
    },
    {
      "cell_type": "code",
      "source": [
        "def summary_stats(data):\n",
        "    reward = pd.DataFrame()\n",
        "\n",
        "    beta_dist = pd.DataFrame()\n",
        "    beta_dist['policy'] = ['UR', 'UR', 'TS', 'TS', 'TS-PD', 'TS-PD']\n",
        "    beta_dist['arm'] = [0, 1, 0, 1, 0, 1]\n",
        "\n",
        "    policy = ['UR', 'TS', 'TS-PD']\n",
        "\n",
        "    for i in range(3):\n",
        "        class_idx = (data['policy_name'] == policy[i])\n",
        "        class_data = data[class_idx]\n",
        "        N = len(class_data)\n",
        "\n",
        "        # calculate total reward per policy\n",
        "        reward.at[i, 'total_reward'] = class_data['reward'].sum()\n",
        "        reward.at[i, 'num_observations'] = N\n",
        "        reward.at[i, 'normalized_reward'] = class_data['reward'].sum()/N\n",
        "\n",
        "        # calculate observed distributions per arm per policy\n",
        "        for a in range(2):\n",
        "            arm_idx = (class_data['arm'] == a)\n",
        "            arm_data = class_data[arm_idx]\n",
        "            N = len(arm_data)\n",
        "            beta_dist.at[2*i+a, 'alpha'] = arm_data['reward'].sum()\n",
        "            beta_dist.at[2*i+a, 'beta'] = N - arm_data['reward'].sum()\n",
        "            beta_dist.at[2*i+a, 'mean'] = arm_data['reward'].sum() / N\n",
        "\n",
        "    reward = reward.rename(index={0: 'UR', 1: 'TS', 2: 'TS-PD'})\n",
        "\n",
        "    # also calculate reward per arm, regardless of policy\n",
        "    arms = pd.DataFrame()\n",
        "    for a in range(2):\n",
        "        arm_idx = (data['arm'] == a)\n",
        "        arm_data = data[arm_idx]\n",
        "        N = len(arm_data)\n",
        "        arms.at[a, 'total_reward'] = arm_data['reward'].sum()\n",
        "        arms.at[a, 'num_observations'] = N\n",
        "        arms.at[a, 'normalized_reward'] = arm_data['reward'].sum() / N\n",
        "\n",
        "    return reward, beta_dist, arms"
      ],
      "metadata": {
        "id": "AfQ_YR9L8mnS"
      },
      "execution_count": null,
      "outputs": []
    },
    {
      "cell_type": "code",
      "source": [
        "def plot_beta(beta_dist):\n",
        "    for i in range(3):\n",
        "        ax = plt.subplot(3, 1, i + 1)\n",
        "        ax.set_title(beta_dist.at[2*i, 'policy'])\n",
        "        x = np.arange(0, 1, 0.01)\n",
        "        distribution_arm1 = beta.pdf(x, beta_dist.at[2*i, 'alpha'], beta_dist.at[2*i, 'beta'])\n",
        "        distribution_arm2 = beta.pdf(x, beta_dist.at[2*i+1, 'alpha'], beta_dist.at[2*i+1, 'beta'])\n",
        "        ax.plot(x, distribution_arm1, label='no prompt')\n",
        "        ax.plot(x, distribution_arm2, label='prompt')\n",
        "        ax.tick_params(axis='both', labelsize=8)\n",
        "        ax.legend()\n",
        "\n",
        "    plt.subplots_adjust(hspace=0.5)\n",
        "    plt.savefig('beta_dist.png')\n",
        "    plt.show()"
      ],
      "metadata": {
        "id": "0wF5fCd58rN0"
      },
      "execution_count": null,
      "outputs": []
    },
    {
      "cell_type": "code",
      "source": [
        "def stat_sig_policy(data):\n",
        "    policy = ['UR', 'TS', 'TS-PD']\n",
        "\n",
        "    for i in range(3):\n",
        "        class_idx = (data['policy_name'] == policy[i])\n",
        "        class_data = data[class_idx]\n",
        "        N = len(class_data)\n",
        "\n",
        "        arm0_idx = (class_data['arm'] == 0)\n",
        "        arm0_data = class_data[arm0_idx]\n",
        "        arm1_idx = (class_data['arm'] == 1)\n",
        "        arm1_data = class_data[arm1_idx]\n",
        "\n",
        "        res = ttest_ind(arm0_data['reward'], arm1_data['reward'])\n",
        "        print(\"policy: \", policy[i])\n",
        "        print(\"statistical significance: \", res)\n",
        "\n",
        "\n",
        "def stat_sig_overall(data):\n",
        "    arm0_idx = (data['arm'] == 0)\n",
        "    arm0_data = data[arm0_idx]\n",
        "    arm1_idx = (data['arm'] == 1)\n",
        "    arm1_data = data[arm1_idx]\n",
        "\n",
        "    res = ttest_ind(arm0_data['reward'], arm1_data['reward'])\n",
        "    print(\"statistical significance: \", res)"
      ],
      "metadata": {
        "id": "pPaLcaOc8xir"
      },
      "execution_count": null,
      "outputs": []
    },
    {
      "cell_type": "code",
      "source": [
        "# load and clean data\n",
        "data = load_data('data.csv')\n",
        "\n",
        "# calculate overall mean and per arm beta distributions, per policy\n",
        "reward, beta_dist, arms = summary_stats(data)\n",
        "print(reward)\n",
        "print(arms)\n",
        "print(beta_dist)\n",
        "\n",
        "# plot beta distributions\n",
        "plot_beta(beta_dist)\n",
        "\n",
        "# calculate the statistical significance of the mean estimates for each arm per policy\n",
        "stat_sig_policy(data)\n",
        "stat_sig_overall(data)"
      ],
      "metadata": {
        "colab": {
          "base_uri": "https://localhost:8080/",
          "height": 667
        },
        "id": "1kogVam880Sa",
        "outputId": "0f247d0c-7770-48f4-ceea-da0c813ac76d"
      },
      "execution_count": null,
      "outputs": [
        {
          "output_type": "stream",
          "name": "stdout",
          "text": [
            "       total_reward  num_observations  normalized_reward\n",
            "UR            118.0             556.0           0.212230\n",
            "TS            116.0             508.0           0.228346\n",
            "TS-PD         117.0             510.0           0.229412\n",
            "   total_reward  num_observations  normalized_reward\n",
            "0         171.0             793.0           0.215637\n",
            "1         180.0             781.0           0.230474\n",
            "  policy  arm  alpha   beta      mean\n",
            "0     UR    0   59.0  205.0  0.223485\n",
            "1     UR    1   59.0  233.0  0.202055\n",
            "2     TS    0   63.0  194.0  0.245136\n",
            "3     TS    1   53.0  198.0  0.211155\n",
            "4  TS-PD    0   49.0  223.0  0.180147\n",
            "5  TS-PD    1   68.0  170.0  0.285714\n"
          ]
        },
        {
          "output_type": "display_data",
          "data": {
            "image/png": "[encoded data removed]",
            "text/plain": [
              "<Figure size 432x288 with 3 Axes>"
            ]
          },
          "metadata": {
            "needs_background": "light"
          }
        },
        {
          "output_type": "stream",
          "name": "stdout",
          "text": [
            "policy:  UR\n",
            "statistical significance:  Ttest_indResult(statistic=0.6162291943652656, pvalue=0.5379963755360742)\n",
            "policy:  TS\n",
            "statistical significance:  Ttest_indResult(statistic=0.911163574947898, pvalue=0.36264305206628744)\n",
            "policy:  TS-PD\n",
            "statistical significance:  Ttest_indResult(statistic=-2.845632204069852, pvalue=0.004611390573508127)\n",
            "statistical significance:  Ttest_indResult(statistic=-0.7066992032221676, pvalue=0.47985815823884304)\n"
          ]
        }
      ]
    }
  ]
}